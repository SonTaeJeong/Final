{
 "cells": [
  {
   "cell_type": "code",
   "execution_count": null,
   "metadata": {},
   "outputs": [],
   "source": [
    "import requests\n",
    "URL = \"https://open.neis.go.kr/portal/data/file/downloadBlobFileData.do?infId=OPEN15920190423094641415608&infSeq=3&fileSeq=35\"\n",
    "  \n",
    "file = requests.get(URL, stream = True)\n",
    "  \n",
    "with open(\"학원교습소정보.csv\",\"wb\") as pdf:\n",
    "    for chunk in file.iter_content(chunk_size=1024):\n",
    "  \n",
    "         if chunk:\n",
    "             pdf.write(chunk)"
   ]
  },
  {
   "cell_type": "code",
   "execution_count": null,
   "metadata": {},
   "outputs": [],
   "source": [
    "import json\n",
    "\n",
    "school_data_to_load = \"전국초중등학교위치표준데이터.json\"\n",
    "\n",
    "with open(school_data_to_load, encoding='UTF8') as json_file:\n",
    "    json_data = json.load(json_file)"
   ]
  },
  {
   "cell_type": "code",
   "execution_count": null,
   "metadata": {},
   "outputs": [],
   "source": [
    "#고등학교만 골라내기\n",
    "schools = []\n",
    "for data in json_data['records']:\n",
    "    if data['학교명'].find('고등학교') != -1:\n",
    "        schools.append(data)"
   ]
  },
  {
   "cell_type": "code",
   "execution_count": null,
   "metadata": {},
   "outputs": [],
   "source": [
    "#사립/공립 분리\n",
    "private_schools = {}\n",
    "public_schools = {}\n",
    "\n",
    "for school in schools:\n",
    "    if school['설립형태'].find('사립') != -1:\n",
    "        if school['시도교육청명'] in private_schools:\n",
    "            private_schools[school['시도교육청명']].append(school)\n",
    "        else:\n",
    "            private_schools[school['시도교육청명']] = [school]\n",
    "    else:\n",
    "        if school['시도교육청명'] in public_schools:\n",
    "            public_schools[school['시도교육청명']].append(school)\n",
    "        else:\n",
    "            public_schools[school['시도교육청명']] = [school]"
   ]
  },
  {
   "cell_type": "code",
   "execution_count": null,
   "metadata": {},
   "outputs": [],
   "source": [
    "# 학원 정보\n",
    "import pandas as pd\n",
    "academy_data_to_load = \"학원교습소정보_2023년04월30일기준.csv\"\n",
    "\n",
    "_academy_data = pd.read_csv(academy_data_to_load, encoding='cp949')"
   ]
  },
  {
   "cell_type": "code",
   "execution_count": null,
   "metadata": {},
   "outputs": [],
   "source": [
    "# 학원 지역별 분류\n",
    "\n",
    "academy_data = {}\n",
    "for index, row in _academy_data.iterrows():\n",
    "    if row['시도교육청명'] in academy_data:\n",
    "        academy_data[row['시도교육청명']].append(row)\n",
    "    else:\n",
    "        academy_data[row['시도교육청명']] = [row]"
   ]
  },
  {
   "cell_type": "code",
   "execution_count": null,
   "metadata": {},
   "outputs": [],
   "source": [
    "# 학원 주소로 좌표 구하기\n",
    "import requests\n",
    "import json\n",
    "\n",
    "url_front = \"http://api.vworld.kr/req/address?\"\n",
    "url_params = \"service=address&request=getcoord&version=2.0&crs=epsg:4326&refine=true&simple=false&format=json&type=road\"\n",
    "url_address = \"&address=\"\n",
    "url_key = \"&key=\"\n",
    "auth_key = \"86669EDB-62D6-34DA-A1E4-6B2E8948946B\"\n",
    "\n",
    "location_data = {}\n",
    "\n",
    "\n",
    "for location in academy_data:\n",
    "    cnt = 1\n",
    "    for academy in academy_data[location]:\n",
    "        address = academy['도로명주소']\n",
    "        try:\n",
    "            url = url_front + url_params + url_address + address + url_key + auth_key\n",
    "            result = requests.get(url)\n",
    "            json_data = result.json()\n",
    "\n",
    "            if json_data['response']['status'] == 'OK':\n",
    "                x = json_data['response']['result']['point']['x']\n",
    "                y = json_data['response']['result']['point']['y']\n",
    "                if location in location_data:\n",
    "                    location_data[location].append([x, y])\n",
    "                else:\n",
    "                    location_data[location] = [[x, y]]\n",
    "                if cnt % 500 == 0:\n",
    "                    print(cnt)\n",
    "                cnt += 1\n",
    "        except KeyboardInterrupt:\n",
    "            break\n",
    "        except Exception as e:\n",
    "            print(e)\n",
    "            pass\n"
   ]
  },
  {
   "cell_type": "code",
   "execution_count": null,
   "metadata": {},
   "outputs": [],
   "source": [
    "import math\n",
    "\n",
    "def haversine_distance(lat1, lon1, lat2, lon2):\n",
    "    \"\"\"\n",
    "    두 좌표 간의 Haversine 거리를 계산하는 함수\n",
    "    \"\"\"\n",
    "    # 지구의 반지름 (단위: km)\n",
    "    earth_radius = 6371\n",
    "\n",
    "    # 각도를 라디안으로 변환\n",
    "    lat1_rad = math.radians(lat1)\n",
    "    lon1_rad = math.radians(lon1)\n",
    "    lat2_rad = math.radians(lat2)\n",
    "    lon2_rad = math.radians(lon2)\n",
    "\n",
    "    # 좌표 간의 차이 계산\n",
    "    delta_lat = lat2_rad - lat1_rad\n",
    "    delta_lon = lon2_rad - lon1_rad\n",
    "\n",
    "    # Haversine 공식을 이용한 거리 계산\n",
    "    a = math.sin(delta_lat/2)**2 + math.cos(lat1_rad) * math.cos(lat2_rad) * math.sin(delta_lon/2)**2\n",
    "    c = 2 * math.atan2(math.sqrt(a), math.sqrt(1-a))\n",
    "    distance = earth_radius * c\n",
    "\n",
    "    return distance\n",
    "\n",
    "def find_nearby_academies(school_lat, school_lon, academies, radius):\n",
    "    \"\"\"\n",
    "    주어진 학교 위치 주변에 있는 학원들을 찾는 함수\n",
    "    \"\"\"\n",
    "    nearby_academies = []\n",
    "\n",
    "    for academy in academies:\n",
    "        academy_lon = float(academy[0])\n",
    "        academy_lat = float(academy[1])\n",
    "\n",
    "        distance = haversine_distance(school_lat, school_lon, academy_lat, academy_lon)\n",
    "        if distance <= radius:\n",
    "            nearby_academies.append(academy)\n",
    "\n",
    "    return nearby_academies\n"
   ]
  },
  {
   "cell_type": "code",
   "execution_count": null,
   "metadata": {},
   "outputs": [],
   "source": [
    "# 각 시도 교육청별로 공립/사립 학교의 1km 반경 내에 있는 학원 수의 평균을 비교합니다.\n",
    "for key in location_data:\n",
    "    print(key)\n",
    "    #사립 평균\n",
    "    sum = 0\n",
    "    for school in private_schools:\n",
    "        school_lat = float(school['위도'])\n",
    "        school_lon = float(school['경도'])\n",
    "        academies = location_data[key]\n",
    "        nearby_academies = find_nearby_academies(school_lat, school_lon, academies, 1)\n",
    "        sum += len(nearby_academies)\n",
    "    print(f\"{key} 사립 평균: {sum / len(private_schools)}\")\n",
    "    #공립 평균\n",
    "    sum = 0\n",
    "    for school in public_schools:\n",
    "        school_lat = float(school['위도'])\n",
    "        school_lon = float(school['경도'])\n",
    "        academies = location_data[key]\n",
    "        nearby_academies = find_nearby_academies(school_lat, school_lon, academies, 1)\n",
    "        sum += len(nearby_academies)\n",
    "    print(f\"{key} 공립 평균: {sum / len(public_schools)}\")"
   ]
  },
  {
   "cell_type": "code",
   "execution_count": null,
   "metadata": {},
   "outputs": [],
   "source": []
  }
 ],
 "metadata": {
  "kernelspec": {
   "display_name": "Python 3 (ipykernel)",
   "language": "python",
   "name": "python3"
  },
  "language_info": {
   "codemirror_mode": {
    "name": "ipython",
    "version": 3
   },
   "file_extension": ".py",
   "mimetype": "text/x-python",
   "name": "python",
   "nbconvert_exporter": "python",
   "pygments_lexer": "ipython3",
   "version": "3.10.11"
  },
  "vscode": {
   "interpreter": {
    "hash": "bd385fe162c5ca0c84973b7dd5c518456272446b2b64e67c2a69f949ca7a1754"
   }
  }
 },
 "nbformat": 4,
 "nbformat_minor": 2
}
